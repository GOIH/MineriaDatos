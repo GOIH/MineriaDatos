{
 "cells": [
  {
   "cell_type": "code",
   "execution_count": 8,
   "metadata": {},
   "outputs": [],
   "source": [
    "import pandas as pd"
   ]
  },
  {
   "cell_type": "code",
   "execution_count": 26,
   "metadata": {},
   "outputs": [
    {
     "data": {
      "text/html": [
       "<div>\n",
       "<style scoped>\n",
       "    .dataframe tbody tr th:only-of-type {\n",
       "        vertical-align: middle;\n",
       "    }\n",
       "\n",
       "    .dataframe tbody tr th {\n",
       "        vertical-align: top;\n",
       "    }\n",
       "\n",
       "    .dataframe thead th {\n",
       "        text-align: right;\n",
       "    }\n",
       "</style>\n",
       "<table border=\"1\" class=\"dataframe\">\n",
       "  <thead>\n",
       "    <tr style=\"text-align: right;\">\n",
       "      <th></th>\n",
       "      <th>Type of Travel</th>\n",
       "      <th>Class</th>\n",
       "      <th>Gate location</th>\n",
       "      <th>Food and drink</th>\n",
       "      <th>Online boarding</th>\n",
       "      <th>Seat comfort</th>\n",
       "      <th>Inflight entertainment</th>\n",
       "      <th>On-board service</th>\n",
       "    </tr>\n",
       "  </thead>\n",
       "  <tbody>\n",
       "    <tr>\n",
       "      <th>0</th>\n",
       "      <td>Personal Travel</td>\n",
       "      <td>Eco Plus</td>\n",
       "      <td>1</td>\n",
       "      <td>5</td>\n",
       "      <td>3</td>\n",
       "      <td>5</td>\n",
       "      <td>5</td>\n",
       "      <td>4</td>\n",
       "    </tr>\n",
       "    <tr>\n",
       "      <th>1</th>\n",
       "      <td>Business travel</td>\n",
       "      <td>Business</td>\n",
       "      <td>3</td>\n",
       "      <td>1</td>\n",
       "      <td>3</td>\n",
       "      <td>1</td>\n",
       "      <td>1</td>\n",
       "      <td>1</td>\n",
       "    </tr>\n",
       "    <tr>\n",
       "      <th>2</th>\n",
       "      <td>Business travel</td>\n",
       "      <td>Business</td>\n",
       "      <td>2</td>\n",
       "      <td>5</td>\n",
       "      <td>5</td>\n",
       "      <td>5</td>\n",
       "      <td>5</td>\n",
       "      <td>4</td>\n",
       "    </tr>\n",
       "    <tr>\n",
       "      <th>3</th>\n",
       "      <td>Business travel</td>\n",
       "      <td>Business</td>\n",
       "      <td>5</td>\n",
       "      <td>2</td>\n",
       "      <td>2</td>\n",
       "      <td>2</td>\n",
       "      <td>2</td>\n",
       "      <td>2</td>\n",
       "    </tr>\n",
       "    <tr>\n",
       "      <th>4</th>\n",
       "      <td>Business travel</td>\n",
       "      <td>Business</td>\n",
       "      <td>3</td>\n",
       "      <td>4</td>\n",
       "      <td>5</td>\n",
       "      <td>5</td>\n",
       "      <td>3</td>\n",
       "      <td>3</td>\n",
       "    </tr>\n",
       "  </tbody>\n",
       "</table>\n",
       "</div>"
      ],
      "text/plain": [
       "    Type of Travel     Class  Gate location  Food and drink  Online boarding  \\\n",
       "0  Personal Travel  Eco Plus              1               5                3   \n",
       "1  Business travel  Business              3               1                3   \n",
       "2  Business travel  Business              2               5                5   \n",
       "3  Business travel  Business              5               2                2   \n",
       "4  Business travel  Business              3               4                5   \n",
       "\n",
       "   Seat comfort  Inflight entertainment  On-board service  \n",
       "0             5                       5                 4  \n",
       "1             1                       1                 1  \n",
       "2             5                       5                 4  \n",
       "3             2                       2                 2  \n",
       "4             5                       3                 3  "
      ]
     },
     "execution_count": 26,
     "metadata": {},
     "output_type": "execute_result"
    }
   ],
   "source": [
    "data_path = 'data/train.csv'\n",
    "# Nombres de las columnas que deseas cargar (4, 5, 10 a 16)\n",
    "\n",
    "# Leemos solo las columnas deseadas\n",
    "data = pd.read_csv(data_path, usecols=[5,6,11,12,13,14,15,16])\n",
    "data.head()\n"
   ]
  },
  {
   "cell_type": "code",
   "execution_count": 29,
   "metadata": {},
   "outputs": [
    {
     "name": "stdout",
     "output_type": "stream",
     "text": [
      "Columnas categóricas: ['Type of Travel', 'Class']\n",
      "\n",
      "Columnas numéricas: ['Gate location', 'Food and drink', 'Online boarding', 'Seat comfort', 'Inflight entertainment', 'On-board service']\n",
      "[0, 1]\n"
     ]
    }
   ],
   "source": [
    "numericas = []\n",
    "categoricas = []\n",
    "nums = []\n",
    "\n",
    "for i, col in enumerate(data.columns):\n",
    "    tipo = \"categórico\" if data.dtypes[col] == object else \"numérico\"\n",
    "    valores_perdidos = data[col].isnull().sum()  # Contar valores NaN\n",
    "        \n",
    "    if valores_perdidos > 0:\n",
    "        print(f'La columna \"{col}\" tiene {valores_perdidos} valores perdidos.')\n",
    "        \n",
    "    # Añadimos la columna a la lista correspondiente\n",
    "    if tipo == \"numérico\":\n",
    "        numericas.append(col)\n",
    "        \n",
    "    else:\n",
    "        categoricas.append(col)\n",
    "        nums.append(i)\n",
    "\n",
    "# Imprimimos las listas al final\n",
    "print(\"Columnas categóricas:\", categoricas)\n",
    "print(\"\\nColumnas numéricas:\", numericas)\n",
    "print(nums)\n"
   ]
  },
  {
   "cell_type": "code",
   "execution_count": null,
   "metadata": {},
   "outputs": [
    {
     "name": "stdout",
     "output_type": "stream",
     "text": [
      "Columna: \"Departure/Arrival time convenient\" - Tipo: numérica\n",
      "Columna: \"Ease of Online booking\" - Tipo: numérica\n",
      "Columna: \"Gate location\" - Tipo: numérica\n",
      "Columna: \"Food and drink\" - Tipo: numérica\n",
      "Columna: \"Online boarding\" - Tipo: numérica\n",
      "Columna: \"Seat comfort\" - Tipo: numérica\n",
      "Columna: \"Inflight entertainment\" - Tipo: numérica\n",
      "Columna: \"On-board service\" - Tipo: numérica\n"
     ]
    }
   ],
   "source": []
  },
  {
   "cell_type": "code",
   "execution_count": null,
   "metadata": {},
   "outputs": [],
   "source": []
  }
 ],
 "metadata": {
  "kernelspec": {
   "display_name": "py311ml",
   "language": "python",
   "name": "python3"
  },
  "language_info": {
   "codemirror_mode": {
    "name": "ipython",
    "version": 3
   },
   "file_extension": ".py",
   "mimetype": "text/x-python",
   "name": "python",
   "nbconvert_exporter": "python",
   "pygments_lexer": "ipython3",
   "version": "3.11.8"
  }
 },
 "nbformat": 4,
 "nbformat_minor": 2
}
